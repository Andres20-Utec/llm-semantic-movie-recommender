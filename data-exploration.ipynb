{
 "cells": [
  {
   "cell_type": "code",
   "execution_count": 1,
   "outputs": [
    {
     "name": "stdout",
     "output_type": "stream",
     "text": [
      "Path to dataset files: C:\\Users\\Andres\\.cache\\kagglehub\\datasets\\disham993\\9000-movies-dataset\\versions\\2\n"
     ]
    }
   ],
   "source": [
    "import kagglehub\n",
    "\n",
    "# Download latest version\n",
    "path = kagglehub.dataset_download(\"disham993/9000-movies-dataset\")\n",
    "\n",
    "print(\"Path to dataset files:\", path)"
   ],
   "metadata": {
    "collapsed": false,
    "ExecuteTime": {
     "end_time": "2025-02-05T21:09:50.265844300Z",
     "start_time": "2025-02-05T21:09:48.843014300Z"
    }
   },
   "id": "996708bcd3694c78"
  },
  {
   "cell_type": "code",
   "execution_count": 95,
   "outputs": [],
   "source": [
    "import pandas as pd\n",
    "\n",
    "movies = pd.read_csv(f\"{path}/mymoviedb.csv\", lineterminator='\\n')"
   ],
   "metadata": {
    "collapsed": false,
    "ExecuteTime": {
     "end_time": "2025-02-05T22:06:40.618369200Z",
     "start_time": "2025-02-05T22:06:40.543268100Z"
    }
   },
   "id": "e1b37c8a0951d705"
  },
  {
   "cell_type": "code",
   "execution_count": 96,
   "outputs": [
    {
     "data": {
      "text/plain": "     Release_Date                                 Title  \\\n0      2021-12-15               Spider-Man: No Way Home   \n1      2022-03-01                            The Batman   \n2      2022-02-25                               No Exit   \n3      2021-11-24                               Encanto   \n4      2021-12-22                        The King's Man   \n...           ...                                   ...   \n9822   1973-10-15                              Badlands   \n9823   2020-10-01                      Violent Delights   \n9824   2016-05-06                          The Offering   \n9825   2021-03-31  The United States vs. Billie Holiday   \n9826   1984-09-23                               Threads   \n\n                                               Overview  Popularity  \\\n0     Peter Parker is unmasked and no longer able to...    5083.954   \n1     In his second year of fighting crime, Batman u...    3827.658   \n2     Stranded at a rest stop in the mountains durin...    2618.087   \n3     The tale of an extraordinary family, the Madri...    2402.201   \n4     As a collection of history's worst tyrants and...    1895.511   \n...                                                 ...         ...   \n9822  A dramatization of the Starkweather-Fugate kil...      13.357   \n9823  A female vampire falls in love with a man she ...      13.356   \n9824  When young and successful reporter Jamie finds...      13.355   \n9825  Billie Holiday spent much of her career being ...      13.354   \n9826  Documentary style account of a nuclear holocau...      13.354   \n\n      Vote_Count  Vote_Average Original_Language  \\\n0           8940           8.3                en   \n1           1151           8.1                en   \n2            122           6.3                en   \n3           5076           7.7                en   \n4           1793           7.0                en   \n...          ...           ...               ...   \n9822         896           7.6                en   \n9823           8           3.5                es   \n9824          94           5.0                en   \n9825         152           6.7                en   \n9826         186           7.8                en   \n\n                                   Genre  \\\n0     Action, Adventure, Science Fiction   \n1               Crime, Mystery, Thriller   \n2                               Thriller   \n3     Animation, Comedy, Family, Fantasy   \n4       Action, Adventure, Thriller, War   \n...                                  ...   \n9822                        Drama, Crime   \n9823                              Horror   \n9824           Mystery, Thriller, Horror   \n9825               Music, Drama, History   \n9826         War, Drama, Science Fiction   \n\n                                             Poster_Url  \n0     https://image.tmdb.org/t/p/original/1g0dhYtq4i...  \n1     https://image.tmdb.org/t/p/original/74xTEgt7R3...  \n2     https://image.tmdb.org/t/p/original/vDHsLnOWKl...  \n3     https://image.tmdb.org/t/p/original/4j0PNHkMr5...  \n4     https://image.tmdb.org/t/p/original/aq4Pwv5Xeu...  \n...                                                 ...  \n9822  https://image.tmdb.org/t/p/original/z81rBzHNgi...  \n9823  https://image.tmdb.org/t/p/original/4b6HY7rud6...  \n9824  https://image.tmdb.org/t/p/original/h4uMM1wOhz...  \n9825  https://image.tmdb.org/t/p/original/vEzkxuE2sJ...  \n9826  https://image.tmdb.org/t/p/original/lBhU4U9Eeh...  \n\n[9827 rows x 9 columns]",
      "text/html": "<div>\n<style scoped>\n    .dataframe tbody tr th:only-of-type {\n        vertical-align: middle;\n    }\n\n    .dataframe tbody tr th {\n        vertical-align: top;\n    }\n\n    .dataframe thead th {\n        text-align: right;\n    }\n</style>\n<table border=\"1\" class=\"dataframe\">\n  <thead>\n    <tr style=\"text-align: right;\">\n      <th></th>\n      <th>Release_Date</th>\n      <th>Title</th>\n      <th>Overview</th>\n      <th>Popularity</th>\n      <th>Vote_Count</th>\n      <th>Vote_Average</th>\n      <th>Original_Language</th>\n      <th>Genre</th>\n      <th>Poster_Url</th>\n    </tr>\n  </thead>\n  <tbody>\n    <tr>\n      <th>0</th>\n      <td>2021-12-15</td>\n      <td>Spider-Man: No Way Home</td>\n      <td>Peter Parker is unmasked and no longer able to...</td>\n      <td>5083.954</td>\n      <td>8940</td>\n      <td>8.3</td>\n      <td>en</td>\n      <td>Action, Adventure, Science Fiction</td>\n      <td>https://image.tmdb.org/t/p/original/1g0dhYtq4i...</td>\n    </tr>\n    <tr>\n      <th>1</th>\n      <td>2022-03-01</td>\n      <td>The Batman</td>\n      <td>In his second year of fighting crime, Batman u...</td>\n      <td>3827.658</td>\n      <td>1151</td>\n      <td>8.1</td>\n      <td>en</td>\n      <td>Crime, Mystery, Thriller</td>\n      <td>https://image.tmdb.org/t/p/original/74xTEgt7R3...</td>\n    </tr>\n    <tr>\n      <th>2</th>\n      <td>2022-02-25</td>\n      <td>No Exit</td>\n      <td>Stranded at a rest stop in the mountains durin...</td>\n      <td>2618.087</td>\n      <td>122</td>\n      <td>6.3</td>\n      <td>en</td>\n      <td>Thriller</td>\n      <td>https://image.tmdb.org/t/p/original/vDHsLnOWKl...</td>\n    </tr>\n    <tr>\n      <th>3</th>\n      <td>2021-11-24</td>\n      <td>Encanto</td>\n      <td>The tale of an extraordinary family, the Madri...</td>\n      <td>2402.201</td>\n      <td>5076</td>\n      <td>7.7</td>\n      <td>en</td>\n      <td>Animation, Comedy, Family, Fantasy</td>\n      <td>https://image.tmdb.org/t/p/original/4j0PNHkMr5...</td>\n    </tr>\n    <tr>\n      <th>4</th>\n      <td>2021-12-22</td>\n      <td>The King's Man</td>\n      <td>As a collection of history's worst tyrants and...</td>\n      <td>1895.511</td>\n      <td>1793</td>\n      <td>7.0</td>\n      <td>en</td>\n      <td>Action, Adventure, Thriller, War</td>\n      <td>https://image.tmdb.org/t/p/original/aq4Pwv5Xeu...</td>\n    </tr>\n    <tr>\n      <th>...</th>\n      <td>...</td>\n      <td>...</td>\n      <td>...</td>\n      <td>...</td>\n      <td>...</td>\n      <td>...</td>\n      <td>...</td>\n      <td>...</td>\n      <td>...</td>\n    </tr>\n    <tr>\n      <th>9822</th>\n      <td>1973-10-15</td>\n      <td>Badlands</td>\n      <td>A dramatization of the Starkweather-Fugate kil...</td>\n      <td>13.357</td>\n      <td>896</td>\n      <td>7.6</td>\n      <td>en</td>\n      <td>Drama, Crime</td>\n      <td>https://image.tmdb.org/t/p/original/z81rBzHNgi...</td>\n    </tr>\n    <tr>\n      <th>9823</th>\n      <td>2020-10-01</td>\n      <td>Violent Delights</td>\n      <td>A female vampire falls in love with a man she ...</td>\n      <td>13.356</td>\n      <td>8</td>\n      <td>3.5</td>\n      <td>es</td>\n      <td>Horror</td>\n      <td>https://image.tmdb.org/t/p/original/4b6HY7rud6...</td>\n    </tr>\n    <tr>\n      <th>9824</th>\n      <td>2016-05-06</td>\n      <td>The Offering</td>\n      <td>When young and successful reporter Jamie finds...</td>\n      <td>13.355</td>\n      <td>94</td>\n      <td>5.0</td>\n      <td>en</td>\n      <td>Mystery, Thriller, Horror</td>\n      <td>https://image.tmdb.org/t/p/original/h4uMM1wOhz...</td>\n    </tr>\n    <tr>\n      <th>9825</th>\n      <td>2021-03-31</td>\n      <td>The United States vs. Billie Holiday</td>\n      <td>Billie Holiday spent much of her career being ...</td>\n      <td>13.354</td>\n      <td>152</td>\n      <td>6.7</td>\n      <td>en</td>\n      <td>Music, Drama, History</td>\n      <td>https://image.tmdb.org/t/p/original/vEzkxuE2sJ...</td>\n    </tr>\n    <tr>\n      <th>9826</th>\n      <td>1984-09-23</td>\n      <td>Threads</td>\n      <td>Documentary style account of a nuclear holocau...</td>\n      <td>13.354</td>\n      <td>186</td>\n      <td>7.8</td>\n      <td>en</td>\n      <td>War, Drama, Science Fiction</td>\n      <td>https://image.tmdb.org/t/p/original/lBhU4U9Eeh...</td>\n    </tr>\n  </tbody>\n</table>\n<p>9827 rows × 9 columns</p>\n</div>"
     },
     "execution_count": 96,
     "metadata": {},
     "output_type": "execute_result"
    }
   ],
   "source": [
    "movies"
   ],
   "metadata": {
    "collapsed": false,
    "ExecuteTime": {
     "end_time": "2025-02-05T22:06:40.756911400Z",
     "start_time": "2025-02-05T22:06:40.747157600Z"
    }
   },
   "id": "6814d922c30c1c00"
  },
  {
   "cell_type": "code",
   "execution_count": 97,
   "outputs": [],
   "source": [
    "import seaborn as sns\n",
    "import matplotlib.pyplot as plt"
   ],
   "metadata": {
    "collapsed": false,
    "ExecuteTime": {
     "end_time": "2025-02-05T22:06:40.943111400Z",
     "start_time": "2025-02-05T22:06:40.913847900Z"
    }
   },
   "id": "3aaea575a7258e9d"
  },
  {
   "cell_type": "code",
   "execution_count": 98,
   "outputs": [
    {
     "data": {
      "text/plain": "<Figure size 640x480 with 1 Axes>",
      "image/png": "[encoded data removed]"
     },
     "metadata": {},
     "output_type": "display_data"
    }
   ],
   "source": [
    "ax = plt.axes()\n",
    "sns.heatmap(movies.isna().transpose(), cbar=False, ax=ax)\n",
    "\n",
    "plt.xlabel(\"Columns\")\n",
    "plt.ylabel(\"Missing values\")\n",
    "\n",
    "plt.show()"
   ],
   "metadata": {
    "collapsed": false,
    "ExecuteTime": {
     "end_time": "2025-02-05T22:06:41.515406800Z",
     "start_time": "2025-02-05T22:06:41.086335400Z"
    }
   },
   "id": "68608b3a9a1b1637"
  },
  {
   "cell_type": "code",
   "execution_count": 99,
   "outputs": [],
   "source": [
    "movies[\"first_genre\"] = movies[\"Genre\"].str.split(\",\").str[0]"
   ],
   "metadata": {
    "collapsed": false,
    "ExecuteTime": {
     "end_time": "2025-02-05T22:06:41.515406800Z",
     "start_time": "2025-02-05T22:06:41.498216300Z"
    }
   },
   "id": "3cfc193b70bc9f6a"
  },
  {
   "cell_type": "code",
   "execution_count": 100,
   "outputs": [
    {
     "data": {
      "text/plain": "        first_genre  count\n0             Drama   1791\n1            Action   1570\n2            Comedy   1484\n3            Horror    868\n4         Animation    805\n5         Adventure    586\n6          Thriller    515\n7             Crime    391\n8            Family    350\n9           Romance    304\n10  Science Fiction    296\n11          Fantasy    254\n12      Documentary    184\n13          Mystery    102\n14              War     89\n15            Music     82\n16          Western     73\n17          History     45\n18         TV Movie     38",
      "text/html": "<div>\n<style scoped>\n    .dataframe tbody tr th:only-of-type {\n        vertical-align: middle;\n    }\n\n    .dataframe tbody tr th {\n        vertical-align: top;\n    }\n\n    .dataframe thead th {\n        text-align: right;\n    }\n</style>\n<table border=\"1\" class=\"dataframe\">\n  <thead>\n    <tr style=\"text-align: right;\">\n      <th></th>\n      <th>first_genre</th>\n      <th>count</th>\n    </tr>\n  </thead>\n  <tbody>\n    <tr>\n      <th>0</th>\n      <td>Drama</td>\n      <td>1791</td>\n    </tr>\n    <tr>\n      <th>1</th>\n      <td>Action</td>\n      <td>1570</td>\n    </tr>\n    <tr>\n      <th>2</th>\n      <td>Comedy</td>\n      <td>1484</td>\n    </tr>\n    <tr>\n      <th>3</th>\n      <td>Horror</td>\n      <td>868</td>\n    </tr>\n    <tr>\n      <th>4</th>\n      <td>Animation</td>\n      <td>805</td>\n    </tr>\n    <tr>\n      <th>5</th>\n      <td>Adventure</td>\n      <td>586</td>\n    </tr>\n    <tr>\n      <th>6</th>\n      <td>Thriller</td>\n      <td>515</td>\n    </tr>\n    <tr>\n      <th>7</th>\n      <td>Crime</td>\n      <td>391</td>\n    </tr>\n    <tr>\n      <th>8</th>\n      <td>Family</td>\n      <td>350</td>\n    </tr>\n    <tr>\n      <th>9</th>\n      <td>Romance</td>\n      <td>304</td>\n    </tr>\n    <tr>\n      <th>10</th>\n      <td>Science Fiction</td>\n      <td>296</td>\n    </tr>\n    <tr>\n      <th>11</th>\n      <td>Fantasy</td>\n      <td>254</td>\n    </tr>\n    <tr>\n      <th>12</th>\n      <td>Documentary</td>\n      <td>184</td>\n    </tr>\n    <tr>\n      <th>13</th>\n      <td>Mystery</td>\n      <td>102</td>\n    </tr>\n    <tr>\n      <th>14</th>\n      <td>War</td>\n      <td>89</td>\n    </tr>\n    <tr>\n      <th>15</th>\n      <td>Music</td>\n      <td>82</td>\n    </tr>\n    <tr>\n      <th>16</th>\n      <td>Western</td>\n      <td>73</td>\n    </tr>\n    <tr>\n      <th>17</th>\n      <td>History</td>\n      <td>45</td>\n    </tr>\n    <tr>\n      <th>18</th>\n      <td>TV Movie</td>\n      <td>38</td>\n    </tr>\n  </tbody>\n</table>\n</div>"
     },
     "execution_count": 100,
     "metadata": {},
     "output_type": "execute_result"
    }
   ],
   "source": [
    "movies[\"first_genre\"].value_counts().reset_index()"
   ],
   "metadata": {
    "collapsed": false,
    "ExecuteTime": {
     "end_time": "2025-02-05T22:06:41.515406800Z",
     "start_time": "2025-02-05T22:06:41.508902700Z"
    }
   },
   "id": "875c535523e06ab1"
  },
  {
   "cell_type": "code",
   "execution_count": 101,
   "outputs": [],
   "source": [
    "genres = []\n",
    "for genre in movies[\"Genre\"].str.split(\",\"):\n",
    "    genres.extend([g.strip() for g in genre])"
   ],
   "metadata": {
    "collapsed": false,
    "ExecuteTime": {
     "end_time": "2025-02-05T22:06:41.782846100Z",
     "start_time": "2025-02-05T22:06:41.769639Z"
    }
   },
   "id": "f5f3f1edb031bc96"
  },
  {
   "cell_type": "code",
   "execution_count": 102,
   "outputs": [
    {
     "data": {
      "text/plain": "              index  count\n0             Drama   3744\n1            Comedy   3031\n2            Action   2686\n3          Thriller   2488\n4         Adventure   1853\n5           Romance   1476\n6            Horror   1470\n7         Animation   1439\n8            Family   1414\n9           Fantasy   1308\n10  Science Fiction   1273\n11            Crime   1242\n12          Mystery    773\n13          History    427\n14              War    308\n15            Music    295\n16      Documentary    215\n17         TV Movie    214\n18          Western    137",
      "text/html": "<div>\n<style scoped>\n    .dataframe tbody tr th:only-of-type {\n        vertical-align: middle;\n    }\n\n    .dataframe tbody tr th {\n        vertical-align: top;\n    }\n\n    .dataframe thead th {\n        text-align: right;\n    }\n</style>\n<table border=\"1\" class=\"dataframe\">\n  <thead>\n    <tr style=\"text-align: right;\">\n      <th></th>\n      <th>index</th>\n      <th>count</th>\n    </tr>\n  </thead>\n  <tbody>\n    <tr>\n      <th>0</th>\n      <td>Drama</td>\n      <td>3744</td>\n    </tr>\n    <tr>\n      <th>1</th>\n      <td>Comedy</td>\n      <td>3031</td>\n    </tr>\n    <tr>\n      <th>2</th>\n      <td>Action</td>\n      <td>2686</td>\n    </tr>\n    <tr>\n      <th>3</th>\n      <td>Thriller</td>\n      <td>2488</td>\n    </tr>\n    <tr>\n      <th>4</th>\n      <td>Adventure</td>\n      <td>1853</td>\n    </tr>\n    <tr>\n      <th>5</th>\n      <td>Romance</td>\n      <td>1476</td>\n    </tr>\n    <tr>\n      <th>6</th>\n      <td>Horror</td>\n      <td>1470</td>\n    </tr>\n    <tr>\n      <th>7</th>\n      <td>Animation</td>\n      <td>1439</td>\n    </tr>\n    <tr>\n      <th>8</th>\n      <td>Family</td>\n      <td>1414</td>\n    </tr>\n    <tr>\n      <th>9</th>\n      <td>Fantasy</td>\n      <td>1308</td>\n    </tr>\n    <tr>\n      <th>10</th>\n      <td>Science Fiction</td>\n      <td>1273</td>\n    </tr>\n    <tr>\n      <th>11</th>\n      <td>Crime</td>\n      <td>1242</td>\n    </tr>\n    <tr>\n      <th>12</th>\n      <td>Mystery</td>\n      <td>773</td>\n    </tr>\n    <tr>\n      <th>13</th>\n      <td>History</td>\n      <td>427</td>\n    </tr>\n    <tr>\n      <th>14</th>\n      <td>War</td>\n      <td>308</td>\n    </tr>\n    <tr>\n      <th>15</th>\n      <td>Music</td>\n      <td>295</td>\n    </tr>\n    <tr>\n      <th>16</th>\n      <td>Documentary</td>\n      <td>215</td>\n    </tr>\n    <tr>\n      <th>17</th>\n      <td>TV Movie</td>\n      <td>214</td>\n    </tr>\n    <tr>\n      <th>18</th>\n      <td>Western</td>\n      <td>137</td>\n    </tr>\n  </tbody>\n</table>\n</div>"
     },
     "execution_count": 102,
     "metadata": {},
     "output_type": "execute_result"
    }
   ],
   "source": [
    "genres = pd.Series(genres)\n",
    "genres.value_counts().reset_index()"
   ],
   "metadata": {
    "collapsed": false,
    "ExecuteTime": {
     "end_time": "2025-02-05T22:06:41.928989600Z",
     "start_time": "2025-02-05T22:06:41.917302600Z"
    }
   },
   "id": "bfeb883fda6c5b42"
  },
  {
   "cell_type": "code",
   "execution_count": 103,
   "outputs": [],
   "source": [
    "movies[\"words_in_overview\"] = movies[\"Overview\"].str.split().str.len()"
   ],
   "metadata": {
    "collapsed": false,
    "ExecuteTime": {
     "end_time": "2025-02-05T22:06:42.188273400Z",
     "start_time": "2025-02-05T22:06:42.186145800Z"
    }
   },
   "id": "2dc7b87c3ecf913"
  },
  {
   "cell_type": "code",
   "execution_count": 104,
   "outputs": [
    {
     "data": {
      "text/plain": "6423    Plot unknown.\nName: Overview, dtype: object"
     },
     "execution_count": 104,
     "metadata": {},
     "output_type": "execute_result"
    }
   ],
   "source": [
    "movies.loc[movies[\"words_in_overview\"].between(1,4), \"Overview\"]"
   ],
   "metadata": {
    "collapsed": false,
    "ExecuteTime": {
     "end_time": "2025-02-05T22:06:42.661086700Z",
     "start_time": "2025-02-05T22:06:42.653433500Z"
    }
   },
   "id": "fa270c99bd32e8fa"
  },
  {
   "cell_type": "code",
   "execution_count": 105,
   "outputs": [
    {
     "data": {
      "text/plain": "87      Terror strikes when a heartbroken woman uses b...\n112     Jennifer Dulos, the wealthy, Connecticut mothe...\n210               The tenth installment in the Fast Saga.\n237     Drac tries out some new monster pets to help o...\n351     Katniss Everdeen reluctantly becomes the symbo...\n                              ...                        \n9596    A U.S. Army colonel alerts the president of a ...\n9620    A British Special Boat Service commando tracks...\n9689    XOXO follows six strangers whose lives collide...\n9737    A college prank at an abandoned house accident...\n9760    A documentary behind the making of the movie S...\nName: Overview, Length: 187, dtype: object"
     },
     "execution_count": 105,
     "metadata": {},
     "output_type": "execute_result"
    }
   ],
   "source": [
    "movies.loc[movies[\"words_in_overview\"].between(5,14), \"Overview\"]"
   ],
   "metadata": {
    "collapsed": false,
    "ExecuteTime": {
     "end_time": "2025-02-05T22:06:43.162671800Z",
     "start_time": "2025-02-05T22:06:43.152196700Z"
    }
   },
   "id": "4eebf8dc5d7b87"
  },
  {
   "cell_type": "code",
   "execution_count": 106,
   "outputs": [
    {
     "data": {
      "text/plain": "8       A revenge mission becomes a fight to save the ...\n23      Plagued by strange memories, Neo's life takes ...\n26      An ex-NYPD officer-turned-sheriff of a small r...\n31      Shang-Chi must confront the past he thought he...\n34      Two youngsters from rival New York City gangs ...\n                              ...                        \n9784    Fin and his wife April travel around the world...\n9787    An aging thief hopes to retire and live off hi...\n9790    A team searching for a long-lost ship in the A...\n9808    The story of a leading political man, suddenly...\n9814    After spending years in California, Amir retur...\nName: Overview, Length: 1468, dtype: object"
     },
     "execution_count": 106,
     "metadata": {},
     "output_type": "execute_result"
    }
   ],
   "source": [
    "movies.loc[movies[\"words_in_overview\"].between(15,24), \"Overview\"]"
   ],
   "metadata": {
    "collapsed": false,
    "ExecuteTime": {
     "end_time": "2025-02-05T22:06:43.451578600Z",
     "start_time": "2025-02-05T22:06:43.441634Z"
    }
   },
   "id": "2c8fa5247ffb6434"
  },
  {
   "cell_type": "code",
   "execution_count": 107,
   "outputs": [
    {
     "data": {
      "text/plain": "1       In his second year of fighting crime, Batman u...\n4       As a collection of history's worst tyrants and...\n12      After going to extremes to cover up an acciden...\n13      An ambitious carnival man with a talent for ma...\n14      The fearless one-eyed weasel Buck teams up wit...\n                              ...                        \n9800    Plagued by a series of apocalyptic visions, a ...\n9803    A soldier returns home to his small town and e...\n9811    Against the backdrop of a military dictatorshi...\n9822    A dramatization of the Starkweather-Fugate kil...\n9826    Documentary style account of a nuclear holocau...\nName: Overview, Length: 1906, dtype: object"
     },
     "execution_count": 107,
     "metadata": {},
     "output_type": "execute_result"
    }
   ],
   "source": [
    "movies.loc[movies[\"words_in_overview\"].between(25,34), \"Overview\"]"
   ],
   "metadata": {
    "collapsed": false,
    "ExecuteTime": {
     "end_time": "2025-02-05T22:06:43.837782Z",
     "start_time": "2025-02-05T22:06:43.824397700Z"
    }
   },
   "id": "86dd9060b676dcaf"
  },
  {
   "cell_type": "code",
   "execution_count": 108,
   "outputs": [],
   "source": [
    "movies_25_words = movies.loc[movies[\"words_in_overview\"] >= 25]"
   ],
   "metadata": {
    "collapsed": false,
    "ExecuteTime": {
     "end_time": "2025-02-05T22:06:45.183626600Z",
     "start_time": "2025-02-05T22:06:45.174777900Z"
    }
   },
   "id": "f5f300e8976ddec4"
  },
  {
   "cell_type": "code",
   "execution_count": 109,
   "outputs": [
    {
     "data": {
      "text/plain": "     Release_Date                                 Title  \\\n0      2021-12-15               Spider-Man: No Way Home   \n1      2022-03-01                            The Batman   \n2      2022-02-25                               No Exit   \n3      2021-11-24                               Encanto   \n4      2021-12-22                        The King's Man   \n...           ...                                   ...   \n9822   1973-10-15                              Badlands   \n9823   2020-10-01                      Violent Delights   \n9824   2016-05-06                          The Offering   \n9825   2021-03-31  The United States vs. Billie Holiday   \n9826   1984-09-23                               Threads   \n\n                                               Overview  Popularity  \\\n0     Peter Parker is unmasked and no longer able to...    5083.954   \n1     In his second year of fighting crime, Batman u...    3827.658   \n2     Stranded at a rest stop in the mountains durin...    2618.087   \n3     The tale of an extraordinary family, the Madri...    2402.201   \n4     As a collection of history's worst tyrants and...    1895.511   \n...                                                 ...         ...   \n9822  A dramatization of the Starkweather-Fugate kil...      13.357   \n9823  A female vampire falls in love with a man she ...      13.356   \n9824  When young and successful reporter Jamie finds...      13.355   \n9825  Billie Holiday spent much of her career being ...      13.354   \n9826  Documentary style account of a nuclear holocau...      13.354   \n\n      Vote_Count  Vote_Average Original_Language  \\\n0           8940           8.3                en   \n1           1151           8.1                en   \n2            122           6.3                en   \n3           5076           7.7                en   \n4           1793           7.0                en   \n...          ...           ...               ...   \n9822         896           7.6                en   \n9823           8           3.5                es   \n9824          94           5.0                en   \n9825         152           6.7                en   \n9826         186           7.8                en   \n\n                                   Genre  \\\n0     Action, Adventure, Science Fiction   \n1               Crime, Mystery, Thriller   \n2                               Thriller   \n3     Animation, Comedy, Family, Fantasy   \n4       Action, Adventure, Thriller, War   \n...                                  ...   \n9822                        Drama, Crime   \n9823                              Horror   \n9824           Mystery, Thriller, Horror   \n9825               Music, Drama, History   \n9826         War, Drama, Science Fiction   \n\n                                             Poster_Url first_genre  \\\n0     https://image.tmdb.org/t/p/original/1g0dhYtq4i...      Action   \n1     https://image.tmdb.org/t/p/original/74xTEgt7R3...       Crime   \n2     https://image.tmdb.org/t/p/original/vDHsLnOWKl...    Thriller   \n3     https://image.tmdb.org/t/p/original/4j0PNHkMr5...   Animation   \n4     https://image.tmdb.org/t/p/original/aq4Pwv5Xeu...      Action   \n...                                                 ...         ...   \n9822  https://image.tmdb.org/t/p/original/z81rBzHNgi...       Drama   \n9823  https://image.tmdb.org/t/p/original/4b6HY7rud6...      Horror   \n9824  https://image.tmdb.org/t/p/original/h4uMM1wOhz...     Mystery   \n9825  https://image.tmdb.org/t/p/original/vEzkxuE2sJ...       Music   \n9826  https://image.tmdb.org/t/p/original/lBhU4U9Eeh...         War   \n\n      words_in_overview  \n0                    45  \n1                    28  \n2                    46  \n3                    89  \n4                    28  \n...                 ...  \n9822                 30  \n9823                 36  \n9824                 58  \n9825                 40  \n9826                 29  \n\n[8171 rows x 11 columns]",
      "text/html": "<div>\n<style scoped>\n    .dataframe tbody tr th:only-of-type {\n        vertical-align: middle;\n    }\n\n    .dataframe tbody tr th {\n        vertical-align: top;\n    }\n\n    .dataframe thead th {\n        text-align: right;\n    }\n</style>\n<table border=\"1\" class=\"dataframe\">\n  <thead>\n    <tr style=\"text-align: right;\">\n      <th></th>\n      <th>Release_Date</th>\n      <th>Title</th>\n      <th>Overview</th>\n      <th>Popularity</th>\n      <th>Vote_Count</th>\n      <th>Vote_Average</th>\n      <th>Original_Language</th>\n      <th>Genre</th>\n      <th>Poster_Url</th>\n      <th>first_genre</th>\n      <th>words_in_overview</th>\n    </tr>\n  </thead>\n  <tbody>\n    <tr>\n      <th>0</th>\n      <td>2021-12-15</td>\n      <td>Spider-Man: No Way Home</td>\n      <td>Peter Parker is unmasked and no longer able to...</td>\n      <td>5083.954</td>\n      <td>8940</td>\n      <td>8.3</td>\n      <td>en</td>\n      <td>Action, Adventure, Science Fiction</td>\n      <td>https://image.tmdb.org/t/p/original/1g0dhYtq4i...</td>\n      <td>Action</td>\n      <td>45</td>\n    </tr>\n    <tr>\n      <th>1</th>\n      <td>2022-03-01</td>\n      <td>The Batman</td>\n      <td>In his second year of fighting crime, Batman u...</td>\n      <td>3827.658</td>\n      <td>1151</td>\n      <td>8.1</td>\n      <td>en</td>\n      <td>Crime, Mystery, Thriller</td>\n      <td>https://image.tmdb.org/t/p/original/74xTEgt7R3...</td>\n      <td>Crime</td>\n      <td>28</td>\n    </tr>\n    <tr>\n      <th>2</th>\n      <td>2022-02-25</td>\n      <td>No Exit</td>\n      <td>Stranded at a rest stop in the mountains durin...</td>\n      <td>2618.087</td>\n      <td>122</td>\n      <td>6.3</td>\n      <td>en</td>\n      <td>Thriller</td>\n      <td>https://image.tmdb.org/t/p/original/vDHsLnOWKl...</td>\n      <td>Thriller</td>\n      <td>46</td>\n    </tr>\n    <tr>\n      <th>3</th>\n      <td>2021-11-24</td>\n      <td>Encanto</td>\n      <td>The tale of an extraordinary family, the Madri...</td>\n      <td>2402.201</td>\n      <td>5076</td>\n      <td>7.7</td>\n      <td>en</td>\n      <td>Animation, Comedy, Family, Fantasy</td>\n      <td>https://image.tmdb.org/t/p/original/4j0PNHkMr5...</td>\n      <td>Animation</td>\n      <td>89</td>\n    </tr>\n    <tr>\n      <th>4</th>\n      <td>2021-12-22</td>\n      <td>The King's Man</td>\n      <td>As a collection of history's worst tyrants and...</td>\n      <td>1895.511</td>\n      <td>1793</td>\n      <td>7.0</td>\n      <td>en</td>\n      <td>Action, Adventure, Thriller, War</td>\n      <td>https://image.tmdb.org/t/p/original/aq4Pwv5Xeu...</td>\n      <td>Action</td>\n      <td>28</td>\n    </tr>\n    <tr>\n      <th>...</th>\n      <td>...</td>\n      <td>...</td>\n      <td>...</td>\n      <td>...</td>\n      <td>...</td>\n      <td>...</td>\n      <td>...</td>\n      <td>...</td>\n      <td>...</td>\n      <td>...</td>\n      <td>...</td>\n    </tr>\n    <tr>\n      <th>9822</th>\n      <td>1973-10-15</td>\n      <td>Badlands</td>\n      <td>A dramatization of the Starkweather-Fugate kil...</td>\n      <td>13.357</td>\n      <td>896</td>\n      <td>7.6</td>\n      <td>en</td>\n      <td>Drama, Crime</td>\n      <td>https://image.tmdb.org/t/p/original/z81rBzHNgi...</td>\n      <td>Drama</td>\n      <td>30</td>\n    </tr>\n    <tr>\n      <th>9823</th>\n      <td>2020-10-01</td>\n      <td>Violent Delights</td>\n      <td>A female vampire falls in love with a man she ...</td>\n      <td>13.356</td>\n      <td>8</td>\n      <td>3.5</td>\n      <td>es</td>\n      <td>Horror</td>\n      <td>https://image.tmdb.org/t/p/original/4b6HY7rud6...</td>\n      <td>Horror</td>\n      <td>36</td>\n    </tr>\n    <tr>\n      <th>9824</th>\n      <td>2016-05-06</td>\n      <td>The Offering</td>\n      <td>When young and successful reporter Jamie finds...</td>\n      <td>13.355</td>\n      <td>94</td>\n      <td>5.0</td>\n      <td>en</td>\n      <td>Mystery, Thriller, Horror</td>\n      <td>https://image.tmdb.org/t/p/original/h4uMM1wOhz...</td>\n      <td>Mystery</td>\n      <td>58</td>\n    </tr>\n    <tr>\n      <th>9825</th>\n      <td>2021-03-31</td>\n      <td>The United States vs. Billie Holiday</td>\n      <td>Billie Holiday spent much of her career being ...</td>\n      <td>13.354</td>\n      <td>152</td>\n      <td>6.7</td>\n      <td>en</td>\n      <td>Music, Drama, History</td>\n      <td>https://image.tmdb.org/t/p/original/vEzkxuE2sJ...</td>\n      <td>Music</td>\n      <td>40</td>\n    </tr>\n    <tr>\n      <th>9826</th>\n      <td>1984-09-23</td>\n      <td>Threads</td>\n      <td>Documentary style account of a nuclear holocau...</td>\n      <td>13.354</td>\n      <td>186</td>\n      <td>7.8</td>\n      <td>en</td>\n      <td>War, Drama, Science Fiction</td>\n      <td>https://image.tmdb.org/t/p/original/lBhU4U9Eeh...</td>\n      <td>War</td>\n      <td>29</td>\n    </tr>\n  </tbody>\n</table>\n<p>8171 rows × 11 columns</p>\n</div>"
     },
     "execution_count": 109,
     "metadata": {},
     "output_type": "execute_result"
    }
   ],
   "source": [
    "movies_25_words"
   ],
   "metadata": {
    "collapsed": false,
    "ExecuteTime": {
     "end_time": "2025-02-05T22:06:45.736488800Z",
     "start_time": "2025-02-05T22:06:45.676231600Z"
    }
   },
   "id": "c57042046121d6a4"
  },
  {
   "cell_type": "code",
   "execution_count": 110,
   "outputs": [
    {
     "name": "stderr",
     "output_type": "stream",
     "text": [
      "C:\\Users\\Andres\\AppData\\Local\\Temp\\ipykernel_2768\\2556074897.py:1: SettingWithCopyWarning: \n",
      "A value is trying to be set on a copy of a slice from a DataFrame.\n",
      "Try using .loc[row_indexer,col_indexer] = value instead\n",
      "\n",
      "See the caveats in the documentation: https://pandas.pydata.org/pandas-docs/stable/user_guide/indexing.html#returning-a-view-versus-a-copy\n",
      "  movies_25_words[\"id\"] = [f\"{i}\" for i in range(len(movies_25_words))]\n",
      "C:\\Users\\Andres\\AppData\\Local\\Temp\\ipykernel_2768\\2556074897.py:2: SettingWithCopyWarning: \n",
      "A value is trying to be set on a copy of a slice from a DataFrame.\n",
      "Try using .loc[row_indexer,col_indexer] = value instead\n",
      "\n",
      "See the caveats in the documentation: https://pandas.pydata.org/pandas-docs/stable/user_guide/indexing.html#returning-a-view-versus-a-copy\n",
      "  movies_25_words[\"tagged_overview\"] = movies_25_words[[\"id\", \"Overview\"]].astype(str).agg(' '.join, axis=1)\n"
     ]
    }
   ],
   "source": [
    "movies_25_words[\"id\"] = [f\"{i}\" for i in range(len(movies_25_words))]\n",
    "movies_25_words[\"tagged_overview\"] = movies_25_words[[\"id\", \"Overview\"]].astype(str).agg(' '.join, axis=1)"
   ],
   "metadata": {
    "collapsed": false,
    "ExecuteTime": {
     "end_time": "2025-02-05T22:06:51.959082700Z",
     "start_time": "2025-02-05T22:06:51.911720100Z"
    }
   },
   "id": "b38b40395eef4d02"
  },
  {
   "cell_type": "code",
   "execution_count": 111,
   "outputs": [
    {
     "data": {
      "text/plain": "     Release_Date                                 Title  \\\n0      2021-12-15               Spider-Man: No Way Home   \n1      2022-03-01                            The Batman   \n2      2022-02-25                               No Exit   \n3      2021-11-24                               Encanto   \n4      2021-12-22                        The King's Man   \n...           ...                                   ...   \n9822   1973-10-15                              Badlands   \n9823   2020-10-01                      Violent Delights   \n9824   2016-05-06                          The Offering   \n9825   2021-03-31  The United States vs. Billie Holiday   \n9826   1984-09-23                               Threads   \n\n                                               Overview  Popularity  \\\n0     Peter Parker is unmasked and no longer able to...    5083.954   \n1     In his second year of fighting crime, Batman u...    3827.658   \n2     Stranded at a rest stop in the mountains durin...    2618.087   \n3     The tale of an extraordinary family, the Madri...    2402.201   \n4     As a collection of history's worst tyrants and...    1895.511   \n...                                                 ...         ...   \n9822  A dramatization of the Starkweather-Fugate kil...      13.357   \n9823  A female vampire falls in love with a man she ...      13.356   \n9824  When young and successful reporter Jamie finds...      13.355   \n9825  Billie Holiday spent much of her career being ...      13.354   \n9826  Documentary style account of a nuclear holocau...      13.354   \n\n      Vote_Count  Vote_Average Original_Language  \\\n0           8940           8.3                en   \n1           1151           8.1                en   \n2            122           6.3                en   \n3           5076           7.7                en   \n4           1793           7.0                en   \n...          ...           ...               ...   \n9822         896           7.6                en   \n9823           8           3.5                es   \n9824          94           5.0                en   \n9825         152           6.7                en   \n9826         186           7.8                en   \n\n                                   Genre  \\\n0     Action, Adventure, Science Fiction   \n1               Crime, Mystery, Thriller   \n2                               Thriller   \n3     Animation, Comedy, Family, Fantasy   \n4       Action, Adventure, Thriller, War   \n...                                  ...   \n9822                        Drama, Crime   \n9823                              Horror   \n9824           Mystery, Thriller, Horror   \n9825               Music, Drama, History   \n9826         War, Drama, Science Fiction   \n\n                                             Poster_Url first_genre  \\\n0     https://image.tmdb.org/t/p/original/1g0dhYtq4i...      Action   \n1     https://image.tmdb.org/t/p/original/74xTEgt7R3...       Crime   \n2     https://image.tmdb.org/t/p/original/vDHsLnOWKl...    Thriller   \n3     https://image.tmdb.org/t/p/original/4j0PNHkMr5...   Animation   \n4     https://image.tmdb.org/t/p/original/aq4Pwv5Xeu...      Action   \n...                                                 ...         ...   \n9822  https://image.tmdb.org/t/p/original/z81rBzHNgi...       Drama   \n9823  https://image.tmdb.org/t/p/original/4b6HY7rud6...      Horror   \n9824  https://image.tmdb.org/t/p/original/h4uMM1wOhz...     Mystery   \n9825  https://image.tmdb.org/t/p/original/vEzkxuE2sJ...       Music   \n9826  https://image.tmdb.org/t/p/original/lBhU4U9Eeh...         War   \n\n      words_in_overview    id  \\\n0                    45     0   \n1                    28     1   \n2                    46     2   \n3                    89     3   \n4                    28     4   \n...                 ...   ...   \n9822                 30  8166   \n9823                 36  8167   \n9824                 58  8168   \n9825                 40  8169   \n9826                 29  8170   \n\n                                        tagged_overview  \n0     0 Peter Parker is unmasked and no longer able ...  \n1     1 In his second year of fighting crime, Batman...  \n2     2 Stranded at a rest stop in the mountains dur...  \n3     3 The tale of an extraordinary family, the Mad...  \n4     4 As a collection of history's worst tyrants a...  \n...                                                 ...  \n9822  8166 A dramatization of the Starkweather-Fugat...  \n9823  8167 A female vampire falls in love with a man...  \n9824  8168 When young and successful reporter Jamie ...  \n9825  8169 Billie Holiday spent much of her career b...  \n9826  8170 Documentary style account of a nuclear ho...  \n\n[8171 rows x 13 columns]",
      "text/html": "<div>\n<style scoped>\n    .dataframe tbody tr th:only-of-type {\n        vertical-align: middle;\n    }\n\n    .dataframe tbody tr th {\n        vertical-align: top;\n    }\n\n    .dataframe thead th {\n        text-align: right;\n    }\n</style>\n<table border=\"1\" class=\"dataframe\">\n  <thead>\n    <tr style=\"text-align: right;\">\n      <th></th>\n      <th>Release_Date</th>\n      <th>Title</th>\n      <th>Overview</th>\n      <th>Popularity</th>\n      <th>Vote_Count</th>\n      <th>Vote_Average</th>\n      <th>Original_Language</th>\n      <th>Genre</th>\n      <th>Poster_Url</th>\n      <th>first_genre</th>\n      <th>words_in_overview</th>\n      <th>id</th>\n      <th>tagged_overview</th>\n    </tr>\n  </thead>\n  <tbody>\n    <tr>\n      <th>0</th>\n      <td>2021-12-15</td>\n      <td>Spider-Man: No Way Home</td>\n      <td>Peter Parker is unmasked and no longer able to...</td>\n      <td>5083.954</td>\n      <td>8940</td>\n      <td>8.3</td>\n      <td>en</td>\n      <td>Action, Adventure, Science Fiction</td>\n      <td>https://image.tmdb.org/t/p/original/1g0dhYtq4i...</td>\n      <td>Action</td>\n      <td>45</td>\n      <td>0</td>\n      <td>0 Peter Parker is unmasked and no longer able ...</td>\n    </tr>\n    <tr>\n      <th>1</th>\n      <td>2022-03-01</td>\n      <td>The Batman</td>\n      <td>In his second year of fighting crime, Batman u...</td>\n      <td>3827.658</td>\n      <td>1151</td>\n      <td>8.1</td>\n      <td>en</td>\n      <td>Crime, Mystery, Thriller</td>\n      <td>https://image.tmdb.org/t/p/original/74xTEgt7R3...</td>\n      <td>Crime</td>\n      <td>28</td>\n      <td>1</td>\n      <td>1 In his second year of fighting crime, Batman...</td>\n    </tr>\n    <tr>\n      <th>2</th>\n      <td>2022-02-25</td>\n      <td>No Exit</td>\n      <td>Stranded at a rest stop in the mountains durin...</td>\n      <td>2618.087</td>\n      <td>122</td>\n      <td>6.3</td>\n      <td>en</td>\n      <td>Thriller</td>\n      <td>https://image.tmdb.org/t/p/original/vDHsLnOWKl...</td>\n      <td>Thriller</td>\n      <td>46</td>\n      <td>2</td>\n      <td>2 Stranded at a rest stop in the mountains dur...</td>\n    </tr>\n    <tr>\n      <th>3</th>\n      <td>2021-11-24</td>\n      <td>Encanto</td>\n      <td>The tale of an extraordinary family, the Madri...</td>\n      <td>2402.201</td>\n      <td>5076</td>\n      <td>7.7</td>\n      <td>en</td>\n      <td>Animation, Comedy, Family, Fantasy</td>\n      <td>https://image.tmdb.org/t/p/original/4j0PNHkMr5...</td>\n      <td>Animation</td>\n      <td>89</td>\n      <td>3</td>\n      <td>3 The tale of an extraordinary family, the Mad...</td>\n    </tr>\n    <tr>\n      <th>4</th>\n      <td>2021-12-22</td>\n      <td>The King's Man</td>\n      <td>As a collection of history's worst tyrants and...</td>\n      <td>1895.511</td>\n      <td>1793</td>\n      <td>7.0</td>\n      <td>en</td>\n      <td>Action, Adventure, Thriller, War</td>\n      <td>https://image.tmdb.org/t/p/original/aq4Pwv5Xeu...</td>\n      <td>Action</td>\n      <td>28</td>\n      <td>4</td>\n      <td>4 As a collection of history's worst tyrants a...</td>\n    </tr>\n    <tr>\n      <th>...</th>\n      <td>...</td>\n      <td>...</td>\n      <td>...</td>\n      <td>...</td>\n      <td>...</td>\n      <td>...</td>\n      <td>...</td>\n      <td>...</td>\n      <td>...</td>\n      <td>...</td>\n      <td>...</td>\n      <td>...</td>\n      <td>...</td>\n    </tr>\n    <tr>\n      <th>9822</th>\n      <td>1973-10-15</td>\n      <td>Badlands</td>\n      <td>A dramatization of the Starkweather-Fugate kil...</td>\n      <td>13.357</td>\n      <td>896</td>\n      <td>7.6</td>\n      <td>en</td>\n      <td>Drama, Crime</td>\n      <td>https://image.tmdb.org/t/p/original/z81rBzHNgi...</td>\n      <td>Drama</td>\n      <td>30</td>\n      <td>8166</td>\n      <td>8166 A dramatization of the Starkweather-Fugat...</td>\n    </tr>\n    <tr>\n      <th>9823</th>\n      <td>2020-10-01</td>\n      <td>Violent Delights</td>\n      <td>A female vampire falls in love with a man she ...</td>\n      <td>13.356</td>\n      <td>8</td>\n      <td>3.5</td>\n      <td>es</td>\n      <td>Horror</td>\n      <td>https://image.tmdb.org/t/p/original/4b6HY7rud6...</td>\n      <td>Horror</td>\n      <td>36</td>\n      <td>8167</td>\n      <td>8167 A female vampire falls in love with a man...</td>\n    </tr>\n    <tr>\n      <th>9824</th>\n      <td>2016-05-06</td>\n      <td>The Offering</td>\n      <td>When young and successful reporter Jamie finds...</td>\n      <td>13.355</td>\n      <td>94</td>\n      <td>5.0</td>\n      <td>en</td>\n      <td>Mystery, Thriller, Horror</td>\n      <td>https://image.tmdb.org/t/p/original/h4uMM1wOhz...</td>\n      <td>Mystery</td>\n      <td>58</td>\n      <td>8168</td>\n      <td>8168 When young and successful reporter Jamie ...</td>\n    </tr>\n    <tr>\n      <th>9825</th>\n      <td>2021-03-31</td>\n      <td>The United States vs. Billie Holiday</td>\n      <td>Billie Holiday spent much of her career being ...</td>\n      <td>13.354</td>\n      <td>152</td>\n      <td>6.7</td>\n      <td>en</td>\n      <td>Music, Drama, History</td>\n      <td>https://image.tmdb.org/t/p/original/vEzkxuE2sJ...</td>\n      <td>Music</td>\n      <td>40</td>\n      <td>8169</td>\n      <td>8169 Billie Holiday spent much of her career b...</td>\n    </tr>\n    <tr>\n      <th>9826</th>\n      <td>1984-09-23</td>\n      <td>Threads</td>\n      <td>Documentary style account of a nuclear holocau...</td>\n      <td>13.354</td>\n      <td>186</td>\n      <td>7.8</td>\n      <td>en</td>\n      <td>War, Drama, Science Fiction</td>\n      <td>https://image.tmdb.org/t/p/original/lBhU4U9Eeh...</td>\n      <td>War</td>\n      <td>29</td>\n      <td>8170</td>\n      <td>8170 Documentary style account of a nuclear ho...</td>\n    </tr>\n  </tbody>\n</table>\n<p>8171 rows × 13 columns</p>\n</div>"
     },
     "execution_count": 111,
     "metadata": {},
     "output_type": "execute_result"
    }
   ],
   "source": [
    "movies_25_words"
   ],
   "metadata": {
    "collapsed": false,
    "ExecuteTime": {
     "end_time": "2025-02-05T22:06:53.451300800Z",
     "start_time": "2025-02-05T22:06:53.432343900Z"
    }
   },
   "id": "eb1f5741c8a949ea"
  },
  {
   "cell_type": "code",
   "execution_count": 112,
   "outputs": [],
   "source": [
    "(\n",
    "    movies_25_words\n",
    "    .drop(columns=[\"words_in_overview\"])\n",
    "    .to_csv(f\"movies_cleaned.csv\", index=False)\n",
    ")"
   ],
   "metadata": {
    "collapsed": false,
    "ExecuteTime": {
     "end_time": "2025-02-05T22:06:54.192192100Z",
     "start_time": "2025-02-05T22:06:54.065769Z"
    }
   },
   "id": "b2e4d6afcce3794"
  },
  {
   "cell_type": "code",
   "execution_count": null,
   "outputs": [],
   "source": [],
   "metadata": {
    "collapsed": false
   },
   "id": "b64967170ca66db8"
  }
 ],
 "metadata": {
  "kernelspec": {
   "display_name": "Python 3",
   "language": "python",
   "name": "python3"
  },
  "language_info": {
   "codemirror_mode": {
    "name": "ipython",
    "version": 2
   },
   "file_extension": ".py",
   "mimetype": "text/x-python",
   "name": "python",
   "nbconvert_exporter": "python",
   "pygments_lexer": "ipython2",
   "version": "2.7.6"
  }
 },
 "nbformat": 4,
 "nbformat_minor": 5
}
